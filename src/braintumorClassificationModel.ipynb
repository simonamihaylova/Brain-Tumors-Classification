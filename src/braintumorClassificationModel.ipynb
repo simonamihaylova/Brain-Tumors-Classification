{
  "nbformat": 4,
  "nbformat_minor": 0,
  "metadata": {
    "colab": {
      "name": "braintumorClassificationModel.ipynb",
      "provenance": [],
      "collapsed_sections": []
    },
    "kernelspec": {
      "name": "python3",
      "display_name": "Python 3"
    },
    "language_info": {
      "name": "python"
    }
  },
  "cells": [
    {
      "cell_type": "code",
      "metadata": {
        "id": "18RYZdfWlkVj"
      },
      "source": [
        "import numpy as np\n",
        "import tensorflow as tf\n",
        "import matplotlib.pyplot as plt\n",
        "from sklearn.model_selection import train_test_split\n",
        "import seaborn as sns"
      ],
      "execution_count": 89,
      "outputs": []
    },
    {
      "cell_type": "markdown",
      "metadata": {
        "id": "MX3Ptt7iHFko"
      },
      "source": [
        "## Importing the augmented dataset:\n",
        "*   `dataset_augmentation.ipynb` - Loads the original Brain Tumor Dataset (3064 T1-Weighted MRI images) and augments the dataset using techniques such as rotating, mirroring, flipping over an axis and salting.\n",
        "*   `augmented_images.npz` - Contains the full dataset after augmentation (15320 images and 15320 labels)\n"
      ]
    },
    {
      "cell_type": "code",
      "metadata": {
        "colab": {
          "base_uri": "https://localhost:8080/"
        },
        "id": "2C8aFpWdfkmX",
        "outputId": "2239994c-22d1-45d0-d0b6-922d01cf44a1"
      },
      "source": [
        "from google.colab import drive\n",
        "drive.mount('/content/gdrive')"
      ],
      "execution_count": 2,
      "outputs": [
        {
          "output_type": "stream",
          "text": [
            "Mounted at /content/gdrive\n"
          ],
          "name": "stdout"
        }
      ]
    },
    {
      "cell_type": "code",
      "metadata": {
        "id": "86WAVLHWfrAu"
      },
      "source": [
        "# images_path = '../dataset/augmented_images.npz'\n",
        "images_path = '/content/gdrive/MyDrive/augmented_images.npz'"
      ],
      "execution_count": 3,
      "outputs": []
    },
    {
      "cell_type": "code",
      "metadata": {
        "colab": {
          "base_uri": "https://localhost:8080/"
        },
        "id": "1p8k914CgCt-",
        "outputId": "cdac1b1a-fd7b-437e-e326-ca2789cf1490"
      },
      "source": [
        "with np.load(images_path) as data:\n",
        "    \n",
        "  images = data['images']\n",
        "  labels = data['labels']\n",
        "  print('images: ', images.shape)\n",
        "  print('labels:', labels.shape)"
      ],
      "execution_count": 4,
      "outputs": [
        {
          "output_type": "stream",
          "text": [
            "images:  (15320, 128, 128)\n",
            "labels: (15320,)\n"
          ],
          "name": "stdout"
        }
      ]
    },
    {
      "cell_type": "markdown",
      "metadata": {
        "id": "aNYgyzkuW13z"
      },
      "source": [
        "## Reformatting the data\n",
        "*   reformat into a tensorflow-friendly shape\n",
        "*   shuffle the data\n",
        "*   split the dataset into train, validation and test dataset with the following ratio: 80, 10, 10\n"
      ]
    },
    {
      "cell_type": "code",
      "metadata": {
        "colab": {
          "base_uri": "https://localhost:8080/"
        },
        "id": "rU_fkUiOOJ9b",
        "outputId": "ce73e865-336b-4826-dab6-805fa505eaf4"
      },
      "source": [
        "num_labels = 3\n",
        "num_channels = 1 # MRI images are grayscale\n",
        "image_size = 128\n",
        "\n",
        "def reformat(dataset, labels):\n",
        "  dataset = dataset.reshape(\n",
        "    (-1, image_size, image_size, num_channels)).astype(np.float32)\n",
        "  labels = (np.arange(num_labels) == labels[:,None]).astype(np.float32)\n",
        "  return dataset, labels\n",
        "\n",
        "images, labels = reformat(images, labels)\n",
        "print('images:', images.shape)\n",
        "print('labels:', labels.shape)"
      ],
      "execution_count": 5,
      "outputs": [
        {
          "output_type": "stream",
          "text": [
            "images: (15320, 128, 128, 1)\n",
            "labels: (15320, 3)\n"
          ],
          "name": "stdout"
        }
      ]
    },
    {
      "cell_type": "code",
      "metadata": {
        "id": "qMkgpcY5Z8JZ"
      },
      "source": [
        "# Shufling the two numpy arrays in unison\n",
        "from sklearn import utils\n",
        "images, labels = utils.shuffle(images,labels)"
      ],
      "execution_count": 6,
      "outputs": []
    },
    {
      "cell_type": "code",
      "metadata": {
        "id": "j5xnI3jzYqMV",
        "colab": {
          "base_uri": "https://localhost:8080/"
        },
        "outputId": "04627012-ec93-4def-f2ce-985760c576c4"
      },
      "source": [
        "train_dataset, remaining_dataset, train_labels, remaining_labels = train_test_split(images, labels, train_size=0.8)\n",
        "valid_dataset,test_dataset, valid_labels, test_labels = train_test_split(remaining_dataset, remaining_labels, test_size=0.5)\n",
        "\n",
        "print('Training set:', train_dataset.shape, train_labels.shape)\n",
        "print('Validation set:', valid_dataset.shape, valid_labels.shape)\n",
        "print('Test set:', test_dataset.shape, test_labels.shape)"
      ],
      "execution_count": 7,
      "outputs": [
        {
          "output_type": "stream",
          "text": [
            "Training set: (12256, 128, 128, 1) (12256, 3)\n",
            "Validation set: (1532, 128, 128, 1) (1532, 3)\n",
            "Test set: (1532, 128, 128, 1) (1532, 3)\n"
          ],
          "name": "stdout"
        }
      ]
    },
    {
      "cell_type": "markdown",
      "metadata": {
        "id": "LbGysfpbq1I8"
      },
      "source": [
        "## Defining the brain tumor classification model\n"
      ]
    },
    {
      "cell_type": "code",
      "metadata": {
        "id": "ChY3h9LmDoGl"
      },
      "source": [
        "# Architecture:\n",
        "# Input: 128 x 128 x 1\n",
        "# Conv1: 128 x 128 x 16\n",
        "# MaxPool1: 64 x 64 x 16\n",
        "# Conv2: 64 x 64 x 32\n",
        "# MaxPool2: 32 x 32 x 32\n",
        "# Conv3: 32 x 32 x 64\n",
        "# MaxPool3: 16 x 16 x 64\n",
        "# FC: 16 * 16 * 64 , 64\n",
        "# Output: 64, 3\n",
        "\n",
        "filter_size = 3\n",
        "depth_conv1 = 16\n",
        "depth_conv2 = 32\n",
        "depth_conv3 = 64\n",
        "\n",
        "weights = {\n",
        "    'wc1' : tf.Variable(tf.random.truncated_normal([filter_size, filter_size, num_channels, depth_conv1], stddev=0.1)),\n",
        "    'wc2' : tf.Variable(tf.random.truncated_normal([filter_size, filter_size, depth_conv1, depth_conv2], stddev=0.1)),\n",
        "    'wc3' : tf.Variable(tf.random.truncated_normal([filter_size, filter_size, depth_conv2, depth_conv3], stddev=0.1)),\n",
        "    'wfc' : tf.Variable(tf.random.truncated_normal([16 * 16 * depth_conv3, depth_conv3], stddev = 0.1)),\n",
        "    'wout': tf.Variable(tf.random.truncated_normal([depth_conv3, num_labels], stddev = 0.1)),\n",
        "}\n",
        "\n",
        "biases = {\n",
        "    'bc1' : tf.Variable(tf.constant(1.0, shape=[depth_conv1])),\n",
        "    'bc2' : tf.Variable(tf.constant(1.0, shape=[depth_conv2])),\n",
        "    'bc3' : tf.Variable(tf.constant(1.0, shape=[depth_conv3])),\n",
        "    'bfc' : tf.Variable(tf.constant(1.0, shape=[depth_conv3])),\n",
        "    'bout': tf.Variable(tf.constant(1.0, shape=[num_labels])),\n",
        "}\n"
      ],
      "execution_count": 11,
      "outputs": []
    },
    {
      "cell_type": "code",
      "metadata": {
        "id": "SMfZNXlb3qMO"
      },
      "source": [
        "# Wrapper functions for the convolutional and max pooling layers\n",
        "def conv2d(x, W, b, stride=1):\n",
        "  x = tf.nn.conv2d(x, W, strides=[1,stride,stride,1], padding='SAME')\n",
        "  x = tf.nn.bias_add(x, b)\n",
        "  return tf.nn.relu(x)\n",
        "\n",
        "def maxpool(x, k = 2):\n",
        "  return tf.nn.max_pool(x, ksize=[1,k,k,1], strides=[1,k,k,1], padding='SAME')\n"
      ],
      "execution_count": 12,
      "outputs": []
    },
    {
      "cell_type": "code",
      "metadata": {
        "id": "AQ95OKGN62PL"
      },
      "source": [
        "def braintumor_classification_model(data):\n",
        "  conv_layer1 = conv2d(data, weights['wc1'], biases['bc1'])\n",
        "  conv_layer1 = maxpool(conv_layer1)\n",
        "\n",
        "  conv_layer2 = conv2d(conv_layer1, weights['wc2'], biases['bc2'])\n",
        "  conv_layer2 = maxpool(conv_layer2)\n",
        "\n",
        "  conv_layer3 = conv2d(conv_layer2, weights['wc3'], biases['bc3'])\n",
        "  conv_layer3 = maxpool(conv_layer3)\n",
        "\n",
        "  conv_layer3_shape = conv_layer3.get_shape().as_list()\n",
        "  fc_layer = tf.reshape(conv_layer3, [conv_layer3_shape[0], conv_layer3_shape[1] * conv_layer3_shape[2] * conv_layer3_shape[3]])\n",
        "  fc_layer = tf.add(tf.matmul(fc_layer, weights['wfc']), biases['bfc'])\n",
        "  fc_layer = tf.nn.relu(fc_layer)\n",
        "\n",
        "  output_layer = tf.add(tf.matmul(fc_layer, weights['wout']), biases['bout'])\n",
        "  return output_layer"
      ],
      "execution_count": 13,
      "outputs": []
    },
    {
      "cell_type": "code",
      "metadata": {
        "id": "AxtLhKGg-eGb"
      },
      "source": [
        "def compute_loss(labels, logits):\n",
        "  return tf.reduce_mean(tf.nn.softmax_cross_entropy_with_logits(labels=labels, logits=logits))"
      ],
      "execution_count": 14,
      "outputs": []
    },
    {
      "cell_type": "code",
      "metadata": {
        "id": "d29cMfrd-pNO"
      },
      "source": [
        "def accuracy(predictions, labels):\n",
        "  return (100.0 * np.sum(np.argmax(predictions, 1) == np.argmax(labels, 1))\n",
        "          / predictions.shape[0])"
      ],
      "execution_count": 15,
      "outputs": []
    },
    {
      "cell_type": "markdown",
      "metadata": {
        "id": "Q3bNM-X8RkcR"
      },
      "source": [
        "### Training"
      ]
    },
    {
      "cell_type": "code",
      "metadata": {
        "id": "pcAAfyxKOrUU"
      },
      "source": [
        "batch_size = 64\n",
        "train_tf_dataset = tf.data.Dataset.from_tensor_slices(\n",
        "    (train_dataset, train_labels)).shuffle(1000).batch(batch_size)"
      ],
      "execution_count": 16,
      "outputs": []
    },
    {
      "cell_type": "code",
      "metadata": {
        "colab": {
          "base_uri": "https://localhost:8080/"
        },
        "id": "Ss-flN3DRmwP",
        "outputId": "58d1e478-73c4-4440-e610-a218675365de"
      },
      "source": [
        "num_batches_val = 4 \n",
        "batch_size_val = int(len(valid_dataset) / num_batches_val) # 4 batches, 383 examples in each batch\n",
        "print(\"Num of examples in one batch - validation dataset:\", batch_size_val)\n",
        "valid_tf_dataset = tf.data.Dataset.from_tensor_slices((valid_dataset, valid_labels)).batch(batch_size_val)"
      ],
      "execution_count": 17,
      "outputs": [
        {
          "output_type": "stream",
          "text": [
            "Num of examples in one batch - validation dataset: 383\n"
          ],
          "name": "stdout"
        }
      ]
    },
    {
      "cell_type": "code",
      "metadata": {
        "colab": {
          "base_uri": "https://localhost:8080/"
        },
        "id": "DBlny-HUQFcn",
        "outputId": "a42fdb95-6309-4a87-882c-b44029cf1b4f"
      },
      "source": [
        "epochs = 40\n",
        "display_step = 100\n",
        "learning_rate = 0.001\n",
        "\n",
        "optimizer = tf.keras.optimizers.SGD(learning_rate)\n",
        "\n",
        "for epoch in range(epochs):\n",
        "\n",
        "    print(\"\\nStart of epoch %d\" % (epoch,))\n",
        "\n",
        "    # Iterate over the batches of the dataset.\n",
        "    for step, (batch_x_train, batch_y_train) in enumerate(train_tf_dataset, 1):\n",
        "\n",
        "        with tf.GradientTape() as g:\n",
        "          logits = braintumor_classification_model(batch_x_train)\n",
        "          loss = compute_loss(batch_y_train, logits)\n",
        "\n",
        "        # Optimizer.\n",
        "        optimizer.minimize(loss, g.watched_variables(), tape=g)\n",
        "        \n",
        "        # Predictions for the training and validation data.\n",
        "        if step % display_step == 0:\n",
        "          train_prediction = tf.nn.softmax(logits)\n",
        "          train_acc = accuracy(train_prediction, batch_y_train)\n",
        "\n",
        "          valid_acc = 0\n",
        "\n",
        "          for (batch_x_val, batch_y_val) in valid_tf_dataset:  \n",
        "              valid_prediction = tf.nn.softmax(braintumor_classification_model(batch_x_val))\n",
        "              valid_acc += accuracy(valid_prediction, batch_y_val)\n",
        "          \n",
        "          print(\"step: %i, loss: %f, train acc: %f, validation acc: %f\" % (step, loss, train_acc, valid_acc / num_batches_val))\n",
        "          print(\"Seen so far: %s samples\" % (step * batch_size))"
      ],
      "execution_count": 18,
      "outputs": [
        {
          "output_type": "stream",
          "text": [
            "\n",
            "Start of epoch 0\n",
            "step: 100, loss: 0.941478, train acc: 57.812500, validation acc: 58.028721\n",
            "Seen so far: 6400 samples\n",
            "\n",
            "Start of epoch 1\n",
            "step: 100, loss: 0.785233, train acc: 60.937500, validation acc: 61.422977\n",
            "Seen so far: 6400 samples\n",
            "\n",
            "Start of epoch 2\n",
            "step: 100, loss: 0.687381, train acc: 67.187500, validation acc: 65.013055\n",
            "Seen so far: 6400 samples\n",
            "\n",
            "Start of epoch 3\n",
            "step: 100, loss: 0.705952, train acc: 59.375000, validation acc: 69.321149\n",
            "Seen so far: 6400 samples\n",
            "\n",
            "Start of epoch 4\n",
            "step: 100, loss: 0.518196, train acc: 78.125000, validation acc: 73.890339\n",
            "Seen so far: 6400 samples\n",
            "\n",
            "Start of epoch 5\n",
            "step: 100, loss: 0.557814, train acc: 73.437500, validation acc: 75.130548\n",
            "Seen so far: 6400 samples\n",
            "\n",
            "Start of epoch 6\n",
            "step: 100, loss: 0.481842, train acc: 78.125000, validation acc: 76.631854\n",
            "Seen so far: 6400 samples\n",
            "\n",
            "Start of epoch 7\n",
            "step: 100, loss: 0.427701, train acc: 79.687500, validation acc: 74.934726\n",
            "Seen so far: 6400 samples\n",
            "\n",
            "Start of epoch 8\n",
            "step: 100, loss: 0.643305, train acc: 71.875000, validation acc: 76.370757\n",
            "Seen so far: 6400 samples\n",
            "\n",
            "Start of epoch 9\n",
            "step: 100, loss: 0.459702, train acc: 75.000000, validation acc: 76.631854\n",
            "Seen so far: 6400 samples\n",
            "\n",
            "Start of epoch 10\n",
            "step: 100, loss: 0.345254, train acc: 87.500000, validation acc: 82.310705\n",
            "Seen so far: 6400 samples\n",
            "\n",
            "Start of epoch 11\n",
            "step: 100, loss: 0.399141, train acc: 85.937500, validation acc: 80.939948\n",
            "Seen so far: 6400 samples\n",
            "\n",
            "Start of epoch 12\n",
            "step: 100, loss: 0.428666, train acc: 85.937500, validation acc: 84.268930\n",
            "Seen so far: 6400 samples\n",
            "\n",
            "Start of epoch 13\n",
            "step: 100, loss: 0.400714, train acc: 87.500000, validation acc: 85.052219\n",
            "Seen so far: 6400 samples\n",
            "\n",
            "Start of epoch 14\n",
            "step: 100, loss: 0.386809, train acc: 79.687500, validation acc: 83.942559\n",
            "Seen so far: 6400 samples\n",
            "\n",
            "Start of epoch 15\n",
            "step: 100, loss: 0.351525, train acc: 85.937500, validation acc: 86.422977\n",
            "Seen so far: 6400 samples\n",
            "\n",
            "Start of epoch 16\n",
            "step: 100, loss: 0.438550, train acc: 79.687500, validation acc: 83.485640\n",
            "Seen so far: 6400 samples\n",
            "\n",
            "Start of epoch 17\n",
            "step: 100, loss: 0.503012, train acc: 82.812500, validation acc: 85.248042\n",
            "Seen so far: 6400 samples\n",
            "\n",
            "Start of epoch 18\n",
            "step: 100, loss: 0.344644, train acc: 79.687500, validation acc: 82.637076\n",
            "Seen so far: 6400 samples\n",
            "\n",
            "Start of epoch 19\n",
            "step: 100, loss: 0.260240, train acc: 95.312500, validation acc: 85.052219\n",
            "Seen so far: 6400 samples\n",
            "\n",
            "Start of epoch 20\n",
            "step: 100, loss: 0.531370, train acc: 84.375000, validation acc: 86.031332\n",
            "Seen so far: 6400 samples\n",
            "\n",
            "Start of epoch 21\n",
            "step: 100, loss: 0.257782, train acc: 89.062500, validation acc: 86.488251\n",
            "Seen so far: 6400 samples\n",
            "\n",
            "Start of epoch 22\n",
            "step: 100, loss: 0.504185, train acc: 79.687500, validation acc: 86.161880\n",
            "Seen so far: 6400 samples\n",
            "\n",
            "Start of epoch 23\n",
            "step: 100, loss: 0.326592, train acc: 84.375000, validation acc: 88.185379\n",
            "Seen so far: 6400 samples\n",
            "\n",
            "Start of epoch 24\n",
            "step: 100, loss: 0.300330, train acc: 85.937500, validation acc: 86.161880\n",
            "Seen so far: 6400 samples\n",
            "\n",
            "Start of epoch 25\n",
            "step: 100, loss: 0.321611, train acc: 89.062500, validation acc: 88.185379\n",
            "Seen so far: 6400 samples\n",
            "\n",
            "Start of epoch 26\n",
            "step: 100, loss: 0.355353, train acc: 87.500000, validation acc: 86.814621\n",
            "Seen so far: 6400 samples\n",
            "\n",
            "Start of epoch 27\n",
            "step: 100, loss: 0.495415, train acc: 84.375000, validation acc: 86.553525\n",
            "Seen so far: 6400 samples\n",
            "\n",
            "Start of epoch 28\n",
            "step: 100, loss: 0.297610, train acc: 84.375000, validation acc: 86.031332\n",
            "Seen so far: 6400 samples\n",
            "\n",
            "Start of epoch 29\n",
            "step: 100, loss: 0.220618, train acc: 90.625000, validation acc: 87.206266\n",
            "Seen so far: 6400 samples\n",
            "\n",
            "Start of epoch 30\n",
            "step: 100, loss: 0.370817, train acc: 85.937500, validation acc: 83.616188\n",
            "Seen so far: 6400 samples\n",
            "\n",
            "Start of epoch 31\n",
            "step: 100, loss: 0.186303, train acc: 92.187500, validation acc: 88.315927\n",
            "Seen so far: 6400 samples\n",
            "\n",
            "Start of epoch 32\n",
            "step: 100, loss: 0.388434, train acc: 85.937500, validation acc: 85.248042\n",
            "Seen so far: 6400 samples\n",
            "\n",
            "Start of epoch 33\n",
            "step: 100, loss: 0.426520, train acc: 78.125000, validation acc: 86.879896\n",
            "Seen so far: 6400 samples\n",
            "\n",
            "Start of epoch 34\n",
            "step: 100, loss: 0.350603, train acc: 79.687500, validation acc: 87.663185\n",
            "Seen so far: 6400 samples\n",
            "\n",
            "Start of epoch 35\n",
            "step: 100, loss: 0.237105, train acc: 89.062500, validation acc: 88.446475\n",
            "Seen so far: 6400 samples\n",
            "\n",
            "Start of epoch 36\n",
            "step: 100, loss: 0.353222, train acc: 82.812500, validation acc: 86.096606\n",
            "Seen so far: 6400 samples\n",
            "\n",
            "Start of epoch 37\n",
            "step: 100, loss: 0.309590, train acc: 92.187500, validation acc: 88.707572\n",
            "Seen so far: 6400 samples\n",
            "\n",
            "Start of epoch 38\n",
            "step: 100, loss: 0.358940, train acc: 85.937500, validation acc: 85.574413\n",
            "Seen so far: 6400 samples\n",
            "\n",
            "Start of epoch 39\n",
            "step: 100, loss: 0.251967, train acc: 92.187500, validation acc: 88.577023\n",
            "Seen so far: 6400 samples\n"
          ],
          "name": "stdout"
        }
      ]
    },
    {
      "cell_type": "markdown",
      "metadata": {
        "id": "NIJwwC9-QI6F"
      },
      "source": [
        "### Accuracy on the whole training set"
      ]
    },
    {
      "cell_type": "code",
      "metadata": {
        "colab": {
          "base_uri": "https://localhost:8080/"
        },
        "id": "JMswQWQSQGJU",
        "outputId": "6bf03d42-8481-40b7-af3a-9c1f92d7336a"
      },
      "source": [
        "train_acc = 0\n",
        "num_batches_train = 0\n",
        "for (batch_x, batch_y) in train_tf_dataset:  \n",
        "    num_batches_train += 1\n",
        "    train_prediction = tf.nn.softmax(braintumor_classification_model(batch_x))\n",
        "    train_acc += accuracy(train_prediction, batch_y)\n",
        " \n",
        "print(\"Train accuracy: \", train_acc / num_batches_train)"
      ],
      "execution_count": 19,
      "outputs": [
        {
          "output_type": "stream",
          "text": [
            "Train accuracy:  85.97005208333333\n"
          ],
          "name": "stdout"
        }
      ]
    },
    {
      "cell_type": "markdown",
      "metadata": {
        "id": "wCKSMgv9QRRu"
      },
      "source": [
        "### Accuracy on validation dataset"
      ]
    },
    {
      "cell_type": "code",
      "metadata": {
        "colab": {
          "base_uri": "https://localhost:8080/"
        },
        "id": "DLl5hYmHQOMP",
        "outputId": "73a2d86a-3821-4f01-a3ee-a219312edefd"
      },
      "source": [
        "valid_acc = 0\n",
        "\n",
        "for (batch_x, batch_y) in valid_tf_dataset:  \n",
        "    valid_prediction = tf.nn.softmax(braintumor_classification_model(batch_x))\n",
        "    valid_acc += accuracy(valid_prediction, batch_y)\n",
        " \n",
        "print(\"Validation accuracy: \", valid_acc / num_batches_val)"
      ],
      "execution_count": 20,
      "outputs": [
        {
          "output_type": "stream",
          "text": [
            "Validation accuracy:  86.42297650130548\n"
          ],
          "name": "stdout"
        }
      ]
    },
    {
      "cell_type": "markdown",
      "metadata": {
        "id": "LYzQYMLzQcCT"
      },
      "source": [
        "### Accuracy and confusion matrix on test dataset"
      ]
    },
    {
      "cell_type": "code",
      "metadata": {
        "colab": {
          "base_uri": "https://localhost:8080/"
        },
        "id": "AqbN_70IQdoL",
        "outputId": "11fdd1a3-6103-413a-c0c8-e607ea568d2c"
      },
      "source": [
        "num_batches_test = 4 \n",
        "batch_size_test = int(len(test_dataset) / num_batches_test) # 4 batches, 383 examples in each batch\n",
        "print(\"Num of examples in one batch:\", batch_size_test)\n",
        "test_tf_dataset = tf.data.Dataset.from_tensor_slices((test_dataset, test_labels)).batch(batch_size_test)"
      ],
      "execution_count": 21,
      "outputs": [
        {
          "output_type": "stream",
          "text": [
            "Num of examples in one batch: 383\n"
          ],
          "name": "stdout"
        }
      ]
    },
    {
      "cell_type": "code",
      "metadata": {
        "colab": {
          "base_uri": "https://localhost:8080/"
        },
        "id": "wM3_cXIgQfrw",
        "outputId": "9f6e474f-6c10-4950-f21d-c47a4203bd08"
      },
      "source": [
        "test_acc = 0\n",
        "confusion_matrix = tf.Variable(tf.constant(0, shape=[num_labels,num_labels]))\n",
        "\n",
        "for (batch_x, batch_y) in test_tf_dataset:  \n",
        "    test_prediction = tf.nn.softmax(braintumor_classification_model(batch_x))\n",
        "    test_acc += accuracy(test_prediction, batch_y)\n",
        "\n",
        "    confusion_matrix_batch = tf.math.confusion_matrix(labels = tf.argmax(batch_y, axis=1), predictions = tf.argmax(test_prediction,axis=1), num_classes = 3)\n",
        "    confusion_matrix = tf.math.add(confusion_matrix, confusion_matrix_batch)\n",
        " \n",
        "print(\"Test accuracy: \", test_acc / num_batches_test)"
      ],
      "execution_count": 104,
      "outputs": [
        {
          "output_type": "stream",
          "text": [
            "Test accuracy:  85.37859007832898\n"
          ],
          "name": "stdout"
        }
      ]
    },
    {
      "cell_type": "markdown",
      "metadata": {
        "id": "qX4V2s1E9Wyx"
      },
      "source": [
        "### Visualisation of the confusion matrix"
      ]
    },
    {
      "cell_type": "code",
      "metadata": {
        "colab": {
          "base_uri": "https://localhost:8080/",
          "height": 265
        },
        "id": "_BzqSzey117v",
        "outputId": "6a760ae3-d758-4536-f5ab-268689837d05"
      },
      "source": [
        "# Real Values\n",
        "categories = ['Meningioma', 'Glioma', 'Pituitary Tumor']\n",
        "plot = sns.heatmap(confusion_matrix, xticklabels=categories, yticklabels=categories, annot=True, fmt='0.0f', cmap='Blues')\n",
        "plot.set_yticklabels(plot.get_yticklabels(), rotation = 0, fontsize = 10)\n",
        "plot.tick_params(left=False, bottom=False)"
      ],
      "execution_count": 112,
      "outputs": [
        {
          "output_type": "display_data",
          "data": {
            "image/png": "[encoded data removed]",
            "text/plain": [
              "<Figure size 432x288 with 2 Axes>"
            ]
          },
          "metadata": {
            "tags": [],
            "needs_background": "light"
          }
        }
      ]
    },
    {
      "cell_type": "code",
      "metadata": {
        "colab": {
          "base_uri": "https://localhost:8080/",
          "height": 265
        },
        "id": "vTxEtdS3-R9w",
        "outputId": "177a0834-9d82-4a77-ea8c-199e2fb64937"
      },
      "source": [
        "# Percentage of data in each quadrant\n",
        "categories = ['Meningioma', 'Glioma', 'Pituitary Tumor']\n",
        "plot = sns.heatmap(confusion_matrix/np.sum(confusion_matrix), xticklabels=categories, yticklabels=categories, annot=True, fmt='.2%', cmap='Blues')\n",
        "plot.set_yticklabels(plot.get_yticklabels(), rotation = 0, fontsize = 10)\n",
        "plot.tick_params(left=False, bottom=False)"
      ],
      "execution_count": 114,
      "outputs": [
        {
          "output_type": "display_data",
          "data": {
            "image/png": "[encoded data removed]",
            "text/plain": [
              "<Figure size 432x288 with 2 Axes>"
            ]
          },
          "metadata": {
            "tags": [],
            "needs_background": "light"
          }
        }
      ]
    }
  ]
}